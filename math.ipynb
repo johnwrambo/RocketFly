{
 "cells": [
  {
   "cell_type": "code",
   "id": "5ce5cc97a89c43dd",
   "metadata": {
    "collapsed": true,
    "ExecuteTime": {
     "end_time": "2025-02-12T19:14:49.373676Z",
     "start_time": "2025-02-12T19:14:49.367913Z"
    }
   },
   "source": [
    "import numpy as np\n",
    "import matplotlib.pyplot as plt\n",
    "from scipy.integrate import solve_ivp\n",
    "\n",
    "# Constants\n",
    "g = 9.81  # gravity (m/s^2)\n",
    "y0 = 100  # initial height (m)\n",
    "v0 = 0    # initial velocity (m/s)\n",
    "t_span = (0, 5)  # time range (seconds)\n",
    "t_eval = np.linspace(0, 5, 100)  # time points\n",
    "\n",
    "# Differential equation system: dy/dt = v, dv/dt = -g\n",
    "def equations(t, y):\n",
    "    pos, vel = y  # Unpack position and velocity\n",
    "    return [vel, -g]  # dy/dt = vel, dv/dt = -g\n",
    "print(equations)\n",
    "# Solve the system\n",
    "solution = solve_ivp(equations, t_span, [y0, v0], t_eval=t_eval)\n",
    "# print(solution)"
   ],
   "outputs": [
    {
     "name": "stdout",
     "output_type": "stream",
     "text": [
      "<function equations at 0x00000189F5DBF100>\n"
     ]
    }
   ],
   "execution_count": 8
  },
  {
   "metadata": {},
   "cell_type": "code",
   "source": [
    "\n",
    "# Extract results\n",
    "t = solution.t\n",
    "y = solution.y[0]  # Position\n",
    "v = solution.y[1]  # Velocity\n",
    "\n",
    "# Plot results\n",
    "plt.figure(figsize=(10, 5))\n",
    "plt.subplot(2, 1, 1)\n",
    "plt.plot(t, y, label=\"Height (m)\")\n",
    "plt.xlabel(\"Time (s)\")\n",
    "plt.ylabel(\"Height (m)\")\n",
    "plt.legend()\n",
    "\n",
    "plt.subplot(2, 1, 2)\n",
    "plt.plot(t, v, label=\"Velocity (m/s)\", color=\"red\")\n",
    "plt.xlabel(\"Time (s)\")\n",
    "plt.ylabel(\"Velocity (m/s)\")\n",
    "plt.legend()\n",
    "\n",
    "plt.tight_layout()\n",
    "plt.show()\n"
   ],
   "id": "initial_id",
   "outputs": [],
   "execution_count": null
  },
  {
   "metadata": {
    "ExecuteTime": {
     "end_time": "2025-02-13T16:04:46.310933Z",
     "start_time": "2025-02-13T16:04:46.306371Z"
    }
   },
   "cell_type": "code",
   "source": [
    "def print_var_name(var, var_dict):\n",
    "    var_name = [name for name in var_dict if var_dict[name] is var][0]\n",
    "    print(f\"The variable '{var_name}' has a value of {var}\")\n",
    "\n",
    "x = 42\n",
    "print_var_name(x, globals())  # Pass globals() to search global scope"
   ],
   "id": "e034b1947d557523",
   "outputs": [
    {
     "name": "stdout",
     "output_type": "stream",
     "text": [
      "The variable 'x' has a value of 42\n"
     ]
    }
   ],
   "execution_count": 1
  },
  {
   "metadata": {},
   "cell_type": "code",
   "outputs": [],
   "execution_count": null,
   "source": "",
   "id": "dfc25bd6e8ba04c2"
  },
  {
   "metadata": {
    "ExecuteTime": {
     "end_time": "2025-02-15T05:14:08.661083Z",
     "start_time": "2025-02-15T05:14:05.599043Z"
    }
   },
   "cell_type": "code",
   "source": [
    "import numpy\n",
    "import numpy as np\n",
    "import rocket\n",
    "import time\n",
    "heavy_booster = rocket.Ship()\n",
    "\n",
    "# heavy_booster.fly()\n",
    "x = heavy_booster.get_rocket_specs(\"Raptor\")\n",
    "y = heavy_booster.thrust\n",
    "# print(y)\n",
    "\n",
    "print(f\"Thrust at Sea Level: {y/1000:.2f} kN\")\n",
    "# print(y.loc[\"R\"])\n",
    "\n",
    "\n",
    "gofor = \"flight\"\n",
    "while gofor == \"flight\":\n",
    "    heavy_booster.fly()\n",
    "    if heavy_booster.altitude[-1] >= 10000:\n",
    "        break\n"
   ],
   "id": "deaec43eed0d4870",
   "outputs": [
    {
     "ename": "ModuleNotFoundError",
     "evalue": "No module named 'pymap3d'",
     "output_type": "error",
     "traceback": [
      "\u001B[1;31m---------------------------------------------------------------------------\u001B[0m",
      "\u001B[1;31mModuleNotFoundError\u001B[0m                       Traceback (most recent call last)",
      "Cell \u001B[1;32mIn[1], line 3\u001B[0m\n\u001B[0;32m      1\u001B[0m \u001B[38;5;28;01mimport\u001B[39;00m \u001B[38;5;21;01mnumpy\u001B[39;00m\n\u001B[0;32m      2\u001B[0m \u001B[38;5;28;01mimport\u001B[39;00m \u001B[38;5;21;01mnumpy\u001B[39;00m \u001B[38;5;28;01mas\u001B[39;00m \u001B[38;5;21;01mnp\u001B[39;00m\n\u001B[1;32m----> 3\u001B[0m \u001B[38;5;28;01mimport\u001B[39;00m \u001B[38;5;21;01mrocket\u001B[39;00m\n\u001B[0;32m      4\u001B[0m \u001B[38;5;28;01mimport\u001B[39;00m \u001B[38;5;21;01mtime\u001B[39;00m\n\u001B[0;32m      5\u001B[0m heavy_booster \u001B[38;5;241m=\u001B[39m rocket\u001B[38;5;241m.\u001B[39mShip()\n",
      "File \u001B[1;32m~\\PycharmProjects\\rocketfly\\rocket.py:4\u001B[0m\n\u001B[0;32m      2\u001B[0m \u001B[38;5;28;01mimport\u001B[39;00m \u001B[38;5;21;01mtime\u001B[39;00m\n\u001B[0;32m      3\u001B[0m \u001B[38;5;28;01mimport\u001B[39;00m \u001B[38;5;21;01mpandas\u001B[39;00m \u001B[38;5;28;01mas\u001B[39;00m \u001B[38;5;21;01mpd\u001B[39;00m\n\u001B[1;32m----> 4\u001B[0m \u001B[38;5;28;01mimport\u001B[39;00m \u001B[38;5;21;01mpymap3d\u001B[39;00m \u001B[38;5;28;01mas\u001B[39;00m \u001B[38;5;21;01mpm\u001B[39;00m\n\u001B[0;32m      6\u001B[0m launch_site \u001B[38;5;241m=\u001B[39m np\u001B[38;5;241m.\u001B[39marray([\u001B[38;5;241m25.996190\u001B[39m, \u001B[38;5;241m-\u001B[39m\u001B[38;5;241m97.154423\u001B[39m, \u001B[38;5;241m14.6304\u001B[39m])  \u001B[38;5;66;03m# Lat/Long Elevation in m\u001B[39;00m\n\u001B[0;32m      7\u001B[0m Ve \u001B[38;5;241m=\u001B[39m \u001B[38;5;241m3000\u001B[39m  \u001B[38;5;66;03m# Exhaust velocity (m/s)\u001B[39;00m\n",
      "\u001B[1;31mModuleNotFoundError\u001B[0m: No module named 'pymap3d'"
     ]
    }
   ],
   "execution_count": 1
  },
  {
   "metadata": {},
   "cell_type": "code",
   "outputs": [],
   "execution_count": null,
   "source": [
    "\n",
    "x = heavy_booster.altitude\n",
    "\n",
    "print(x[4])\n",
    "# print(f\"LAT x: {heavy_booster.position[\"LAT\"]:.4f} LONG: {heavy_booster.position[\"LONG\"]:.4f} ALT: {heavy_booster.position[\"ALT\"]:.4f} Time: {heavy_booster.flight_time:.2f}\")"
   ],
   "id": "9f3491c309dc6017"
  }
 ],
 "metadata": {
  "kernelspec": {
   "display_name": "Python 3",
   "language": "python",
   "name": "python3"
  },
  "language_info": {
   "codemirror_mode": {
    "name": "ipython",
    "version": 2
   },
   "file_extension": ".py",
   "mimetype": "text/x-python",
   "name": "python",
   "nbconvert_exporter": "python",
   "pygments_lexer": "ipython2",
   "version": "2.7.6"
  }
 },
 "nbformat": 4,
 "nbformat_minor": 5
}
